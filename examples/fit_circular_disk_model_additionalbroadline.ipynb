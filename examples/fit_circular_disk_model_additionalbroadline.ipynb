{
 "cells": [
  {
   "cell_type": "markdown",
   "id": "0a164aaa",
   "metadata": {},
   "source": [
    "Firstly, import the fortran disk model routines and the python likelihood functions"
   ]
  },
  {
   "cell_type": "code",
   "execution_count": 1,
   "id": "51a56811",
   "metadata": {},
   "outputs": [],
   "source": [
    "import numpy as np\n",
    "import matplotlib.pyplot as plt\n",
    "from diskmodels import profilecirc\n",
    "from diskfit import likelihood, utils\n",
    "from scipy.optimize import minimize\n",
    "import emcee"
   ]
  },
  {
   "cell_type": "markdown",
   "id": "ee9014f3",
   "metadata": {},
   "source": [
    "Load a continuum subtracted spectrum. In the example of ZTF19aagwzod, I haven't done continuum subtraction so I'm subtracting the baseline, but you should do this beforehand. Define the redshift of the source (this can be a fitted parameter later, but you need a good initial guess."
   ]
  },
  {
   "cell_type": "code",
   "execution_count": 2,
   "id": "87f8af98",
   "metadata": {},
   "outputs": [],
   "source": [
    "fn =  '../data/ZTF18aahiqst_subtracted.txt'#'../data/at2020afhd-hal-20240214.158%2Berr.flm'#ZTF20abwtifz.ascii' #Another example at '../data/ZTF18aahiqst_subtracted.txt'\n",
    "wl,flux,fluxerr = utils.readspec(fn)\n",
    "#flux=flux-np.median(flux[:10])+10 #Subtract the baseline here if you need, but better to do this properly beforehand\n",
    "z = 0.0745#0.029#0.0702 #0.0745 # Redshift"
   ]
  },
  {
   "cell_type": "markdown",
   "id": "7500f944",
   "metadata": {},
   "source": [
    "Extract the region of the spectrum containing the double-peaked profile, and store the size of the spectrum in npix"
   ]
  },
  {
   "cell_type": "code",
   "execution_count": 3,
   "id": "535d4f8a",
   "metadata": {},
   "outputs": [],
   "source": [
    "olambda = 6564.614#6563 # nominal wavelength of the Halpha line (Angstrom)\n",
    "wavemin = 6340  # minimum rest wavelength (Angstrom)\n",
    "wavemax = 6800  # maximum rest wavelength (Angstrom)\n",
    "wave = wl/(1+z) # Convert the spectrum to rest frame wavelength\n",
    "indwave = np.argwhere((wave>wavemin)&(wave<wavemax)&~np.isnan(flux))[:,0]\n",
    "wl = np.asarray(wl[indwave],dtype=np.float64)\n",
    "fluxerr = np.ones(flux.shape)*np.median(np.abs(flux[1:]-flux[:-1]))\n",
    "flux = flux[indwave]\n",
    "fluxerr = 3*fluxerr[indwave]\n",
    "npix = wl.shape[0]"
   ]
  },
  {
   "cell_type": "markdown",
   "id": "f642b811",
   "metadata": {},
   "source": [
    "Set all the parameters which will remain fixed to pre-determined values during the fitting"
   ]
  },
  {
   "cell_type": "code",
   "execution_count": 4,
   "id": "fdb1f408",
   "metadata": {},
   "outputs": [],
   "source": [
    "# Integration, units, normalization\n",
    "\n",
    "maxstep = 400 # Maximum number of integration steps (integer)\n",
    "nstep = 100 # integration steps (integer, </= 400)\n",
    "relativistic = 'y' #  include relativistic effects? (y/n) [y]\n",
    "normalization = 'max' # profile normalization scheme (max/flux/none) [max]\n",
    "# Circular disk size and emission properties\n",
    "\n",
    "q1 = 1.9 #inner emissivity powerlaw index\n",
    "q2 = 1.9 #outer emissivity powerlaw index\n",
    "xib = 0.6 #power-law index break radius (XIB=0 causes Q=Q2 throughout)\n",
    "\n",
    "# Wind properties\n",
    "t0 = 1e-8   # optical depth normalization (0=no wind)\n",
    "eta = 0.8 #optical depth power-law index\n",
    "anglam = 8 #wind opening angle (degrees)\n",
    "version = 'f' #formula for escape probability (f=Flohic, m=Murray)\n",
    "\n",
    "# Spiral arms\n",
    "amp = 1e-12 #contrast of spiral arm (0=no arms)\n",
    "narms = 1 #number of arms (integer)\n",
    "aobs = 95 #spiral orientation (degrees, +ve=outer, -ve=inner)\n",
    "pitch = -20 #pitch angle of spiral pattern (+ve=leading, -ve=trailing)\n",
    "width = 40 #angular width of arm (degrees)\n",
    "xispin = 0 #inner spiral arm radius radius (GM/c^2, 0=XI1)\n",
    "xispout = 0 #outer spiral arm radius radius (GM/c^2, 0=XI2)\n",
    "\n",
    "#Narrow lines\n",
    "narrowwidth = 1.7 # Width of component 1 of broad line in Angstroms\n",
    "narrowwidth2 = 0.9 # Width of component 2 of broad line in Angstroms\n",
    "narrowfrac = 0.2 #Amplitude fraction the two narrow line components\n",
    "\n",
    "#Broadline\n",
    "broadwidth= 80\n",
    "broadHalphaflux=3"
   ]
  },
  {
   "cell_type": "code",
   "execution_count": 5,
   "id": "3c57ac4b",
   "metadata": {},
   "outputs": [],
   "source": [
    "# Bounds on parameters\n",
    "angimax = 360                                                                       \n",
    "angimin= -360                                                                       \n",
    "xi1min = 50                                                                         \n",
    "xi1max = 10000                                                                       \n",
    "xi2min = 100                                                                        \n",
    "xi2max = 10000                                                                       \n",
    "broadmin = 0                                                                        \n",
    "broadmax = 2000                                                                                                                                            \n",
    "ampmin = -1e-12                                                                        \n",
    "ampmax = 5.0                                                                        \n",
    "pitchmin = -60                                                                      \n",
    "pitchmax = 60                                                                       \n",
    "aobsmin = -720                                                                      \n",
    "aobsmax = 360*3 \n",
    "narrowwidthmin=0.1\n",
    "narrowwidthmax=15.0\n",
    "narrowwidth2min = 0.1\n",
    "narrowwidth2max = 12.0\n",
    "narrowfracmin = 0.1\n",
    "narrowfracmax = 5.0\n",
    "broadwidthmax=500\n",
    "broadwidthmin=20\n",
    "anglammin=2.0\n",
    "anglammax=40\n",
    "t0min=1e-10\n",
    "t0max=1e2\n",
    "etamin=-1.5\n",
    "etamax=1.5\n",
    "Halphafluxmin=12\n",
    "Halphafluxmax=300\n",
    "NIIbfluxmin=0.0\n",
    "NIIbfluxmax=8\n",
    "SIIbfluxmin=0.0\n",
    "SIIbfluxmax=300\n",
    "diskfluxmin=1\n",
    "diskfluxmax=500\n",
    "broadHalphafluxmin=0.0\n",
    "broadHalphafluxmax=300"
   ]
  },
  {
   "cell_type": "markdown",
   "id": "b59f9376",
   "metadata": {},
   "source": [
    "Set wavelengths of narrow emission lines to be included in the fit and create the array of line profiles. Set the ratios of any doublets."
   ]
  },
  {
   "cell_type": "code",
   "execution_count": 6,
   "id": "a9ac63fd",
   "metadata": {},
   "outputs": [],
   "source": [
    "NIIa = 6549.86\n",
    "Halpha = 6564.614\n",
    "NIIb = 6585.27\n",
    "SIIa = 6718.29\n",
    "SIIb = 6732.68\n",
    "lines = [Halpha,NIIa,NIIb,SIIa,SIIb]#,OIa,OIb]\n",
    "linesbroad = [Halpha]\n",
    "NIIb_NIIa = 2.95\n",
    "SIIb_SIIa = 1.3\n",
    "OIb_OIa = 0.33\n",
    "ratios = [NIIb_NIIa,SIIb_SIIa]#,OIb_OIa]\n",
    "#Guess narrow line fluxes\n",
    "Halphaflux = 25\n",
    "NIIbflux = 5\n",
    "diskflux = 6\n",
    "SIIbflux = 8\n",
    "OIbflux = 0\n",
    "broadHalphaflux=6.0"
   ]
  },
  {
   "cell_type": "markdown",
   "id": "606870ee",
   "metadata": {},
   "source": [
    "Create a dictionary of the fixed parameter names and values"
   ]
  },
  {
   "cell_type": "code",
   "execution_count": 7,
   "id": "7d00b144",
   "metadata": {},
   "outputs": [],
   "source": [
    "fixed_labels = ['z','ratios','q1','q2','xib','maxstep','version','amp','narms','aobs','pitch','width','xispin','xispout','nstep','relativistic','olambda','npix']\n",
    "fixed_values = [z,ratios,q1,q2,xib,maxstep,version,amp,narms,aobs,pitch,width,xispin,xispout,nstep,relativistic,olambda,npix]\n",
    "fixed = dict(zip(fixed_labels,fixed_values))"
   ]
  },
  {
   "cell_type": "markdown",
   "id": "00c71434",
   "metadata": {},
   "source": [
    "Set initial guesses for the parameters to be fitted"
   ]
  },
  {
   "cell_type": "code",
   "execution_count": 8,
   "id": "ddce78cd",
   "metadata": {},
   "outputs": [],
   "source": [
    "angi = 15 #disk inclination angle (degrees)\n",
    "xi1 = 130 #inner disk radius (GM/c^2)\n",
    "xi2 = 1000 #outer disk radius (multiple of xi1)\n",
    "broad = 600 #broadening parameter (km/s)"
   ]
  },
  {
   "cell_type": "markdown",
   "id": "03d7cf9c",
   "metadata": {},
   "source": [
    "Create a dictionary of fitted parameter names and values. We will fit for the widths of the two narrow line components and the ratio of those components, as well as 4 disk parameters."
   ]
  },
  {
   "cell_type": "code",
   "execution_count": 9,
   "id": "7f2c0480",
   "metadata": {},
   "outputs": [],
   "source": [
    "fitted_labels = ['xi1','xi2','broad','angi','broadwidth','broadHalphaflux','narrowfrac','narrowwidth','narrowwidth2','anglam','t0','eta','Halphaflux','NIIbflux','SIIbflux','diskflux']\n",
    "initial = [xi1,xi2,broad,angi,broadwidth,broadHalphaflux,narrowfrac,narrowwidth,narrowwidth2,anglam,t0,eta,Halphaflux,NIIbflux,SIIbflux,diskflux]\n",
    "fitted = dict(zip(fitted_labels,initial))"
   ]
  },
  {
   "cell_type": "code",
   "execution_count": 10,
   "id": "3871a3d5",
   "metadata": {},
   "outputs": [],
   "source": [
    "diskmins = [xi1min,xi2min,broadmin,angimin,broadwidthmin,broadHalphafluxmin,narrowfracmin,narrowwidthmin,narrowwidth2min,anglammin,t0min,etamin,Halphafluxmin,NIIbfluxmin,SIIbfluxmin,diskfluxmin]\n",
    "diskmax = [xi1max,xi2max,broadmax,angimax,broadwidthmax,broadHalphafluxmax,narrowfracmax,narrowwidthmax,narrowwidth2max,anglammax,t0max,etamax,Halphafluxmax,NIIbfluxmax,SIIbfluxmax,diskfluxmax]"
   ]
  },
  {
   "cell_type": "code",
   "execution_count": 11,
   "id": "35dc0d31",
   "metadata": {},
   "outputs": [
    {
     "name": "stdout",
     "output_type": "stream",
     "text": [
      "50 130 10000\n",
      "100 1000 10000\n",
      "0 600 2000\n",
      "-360 15 360\n",
      "20 80 500\n",
      "0.0 6.0 300\n",
      "0.1 0.2 5.0\n",
      "0.1 1.7 15.0\n",
      "0.1 0.9 12.0\n",
      "2.0 8 40\n",
      "1e-10 1e-08 100.0\n",
      "-1.5 0.8 1.5\n",
      "12 25 300\n",
      "0.0 5 8\n",
      "0.0 8 300\n",
      "1 6 500\n"
     ]
    }
   ],
   "source": [
    "for i,x in enumerate(initial):\n",
    "    print(diskmins[i],x,diskmax[i])"
   ]
  },
  {
   "cell_type": "markdown",
   "id": "cbcaf44d",
   "metadata": {},
   "source": [
    "Plot initial model against spectrum. We will use the circ_fixeddoublet class of models, which fit just the Halpha profile and use double Gaussians for the narrow lines. Line amplitudes are solved for automatically rather than fit as parameters."
   ]
  },
  {
   "cell_type": "code",
   "execution_count": 12,
   "id": "d66937bb",
   "metadata": {},
   "outputs": [],
   "source": [
    "modelguess = likelihood.model_linefit_circ_fixeddoublet_freeamplitudes_addbroadline_Halpha(initial, wl, flux, fluxerr, lines, linesbroad, fixed, fitted)\n",
    "disk,narrowlines,broadlines= likelihood.plot_linefit_circ_fixeddoublet_freeamplitudes_addbroadline_Halpha(initial, wl, flux, fluxerr, lines, linesbroad, fixed, fitted)"
   ]
  },
  {
   "cell_type": "code",
   "execution_count": 13,
   "id": "a26f76d8",
   "metadata": {},
   "outputs": [
    {
     "data": {
      "image/png": "[encoded data removed]",
      "text/plain": [
       "<Figure size 600x600 with 1 Axes>"
      ]
     },
     "metadata": {},
     "output_type": "display_data"
    },
    {
     "data": {
      "text/plain": [
       "<Figure size 640x480 with 0 Axes>"
      ]
     },
     "metadata": {},
     "output_type": "display_data"
    }
   ],
   "source": [
    "plt.figure(figsize=(6,6))\n",
    "plt.plot(wl/(1+fixed['z']),flux,label='data')\n",
    "plt.plot(wl/(1+fixed['z']),modelguess,label='initial guess')\n",
    "plt.plot(wl/(1+fixed['z']),disk,label='Disk model')\n",
    "plt.plot(wl/(1+fixed['z']),narrowlines,label='Narrow line model')\n",
    "plt.plot(wl/(1+fixed['z']),broadlines,label='Broad line model')\n",
    "plt.xlabel('Wavelength (Angstroms)')\n",
    "plt.ylabel('Flux')\n",
    "plt.title('Initial guess')\n",
    "plt.legend()\n",
    "plt.show()\n",
    "plt.clf()"
   ]
  },
  {
   "cell_type": "code",
   "execution_count": 14,
   "id": "73c92eb0",
   "metadata": {},
   "outputs": [],
   "source": [
    "lp = likelihood.logprob_circ_fixeddoublet_freeamplitudes_addbroadline_Halpha(wl, flux, fluxerr, lines, linesbroad, fixed, fitted, diskmins, diskmax)"
   ]
  },
  {
   "cell_type": "markdown",
   "id": "3fa9b1b1",
   "metadata": {},
   "source": [
    "Use scipy.optimize.minimize to find a simple solution for the fitted parameters"
   ]
  },
  {
   "cell_type": "code",
   "execution_count": null,
   "id": "8bd16a4e",
   "metadata": {},
   "outputs": [],
   "source": [
    "nll = lambda *args: -lp(*args)\n",
    "soln = minimize(nll, initial, method='Nelder-Mead')\n",
    "modelfit = lp.test(soln.x)\n",
    "\n",
    "print('Best-fit parameter values', soln.x)"
   ]
  },
  {
   "cell_type": "code",
   "execution_count": null,
   "id": "674ee2e5",
   "metadata": {},
   "outputs": [],
   "source": [
    "disk,narrowlines,broadlines = lp.plot(soln.x)\n",
    "plt.figure(figsize=(6,6))\n",
    "plt.plot(wl/(1+fixed['z']),flux,label='data')\n",
    "plt.plot(wl/(1+fixed['z']),modelfit,label='fitted model')\n",
    "plt.plot(wl/(1+fixed['z']),disk,label='Disk model')\n",
    "plt.plot(wl/(1+fixed['z']),narrowlines,label='Narrow line model')\n",
    "plt.plot(wl/(1+fixed['z']),broadlines,label='Broad line model')\n",
    "plt.xlabel('Wavelength (Angstroms)')\n",
    "plt.ylabel('Flux')\n",
    "plt.title('Best fit model')\n",
    "plt.legend()\n",
    "plt.show()\n",
    "plt.clf()"
   ]
  },
  {
   "cell_type": "markdown",
   "id": "0e76c78a",
   "metadata": {},
   "source": [
    "Now import the emcee module to sample the parameter space, with walkers initialized around the best fit parameters from the previous step. Run the sampler for 1000 iterations and save the progress to file. If you get a singular matrix bug here, try changing the width of the priors."
   ]
  },
  {
   "cell_type": "code",
   "execution_count": null,
   "id": "0575229b",
   "metadata": {},
   "outputs": [],
   "source": [
    "#Distribute starting walkers to be very close to best-fit redshift but have more spread for disk parameters\n",
    "#pos = np.column_stack((soln.x[:-1] + 5e-2 * soln.x[:-1] * np.random.randn(20, soln.x.shape[0]-1),soln.x[-1] + 1e-6 * soln.x[-1] * np.random.randn(20,1)))\n",
    "pos = soln.x + 5e-1 * soln.x * np.random.randn(50, soln.x.shape[0])\n",
    "nwalkers, ndim = pos.shape\n",
    "filename ='emcee.h5'\n",
    "backend = emcee.backends.HDFBackend(filename)\n",
    "backend.reset(nwalkers, ndim)\n",
    "sampler = emcee.EnsembleSampler(\n",
    "        nwalkers, ndim, lp, args=(), backend=backend\n",
    "    )\n",
    "sampler.run_mcmc(pos, 200, progress=True)"
   ]
  },
  {
   "cell_type": "markdown",
   "id": "0da3d308",
   "metadata": {},
   "source": [
    "Print the parameters and uncertainties found by the sampler"
   ]
  },
  {
   "cell_type": "code",
   "execution_count": null,
   "id": "be1a0d27",
   "metadata": {},
   "outputs": [],
   "source": [
    "from IPython.display import display, Math\n",
    "flat_samples = sampler.get_chain(discard=20, flat=True)\n",
    "mcmc_soln=[]\n",
    "for i,l in enumerate(fitted_labels):\n",
    "    mcmc = np.percentile(flat_samples[:, i], [16, 50, 84])\n",
    "    q = np.diff(mcmc)\n",
    "    txt = \"\\mathrm{{{3}}} = {0:.3f}_{{-{1:.3f}}}^{{{2:.3f}}}\"\n",
    "    txt = txt.format(mcmc[1], q[0], q[1], fitted_labels[i])\n",
    "    display(Math(txt))\n",
    "    \n",
    "    mcmc_soln.append(mcmc[1])\n"
   ]
  },
  {
   "cell_type": "markdown",
   "id": "2d09690e",
   "metadata": {},
   "source": [
    "Make a corner plot of the parameter samples"
   ]
  },
  {
   "cell_type": "code",
   "execution_count": null,
   "id": "150caee6",
   "metadata": {},
   "outputs": [],
   "source": [
    "import corner\n",
    "fig = corner.corner(\n",
    "            flat_samples, labels=fitted_labels)\n",
    "plt.show()"
   ]
  },
  {
   "cell_type": "markdown",
   "id": "d268a196",
   "metadata": {},
   "source": [
    "Plot the sampler chains "
   ]
  },
  {
   "cell_type": "code",
   "execution_count": null,
   "id": "abe386ba",
   "metadata": {},
   "outputs": [],
   "source": [
    "plt.figure(figsize=(6,6))\n",
    "fig, axes = plt.subplots(soln.x.shape[0], figsize=(10,3*soln.x.shape[0]), sharex=True)\n",
    "samples = sampler.get_chain()\n",
    "for i in range(ndim):\n",
    "    ax = axes[i]\n",
    "    ax.plot(samples[:, :, i], \"k\", alpha=0.3)\n",
    "    ax.set_xlim(0, len(samples))\n",
    "    ax.set_ylabel(fitted_labels[i])\n",
    "    ax.yaxis.set_label_coords(-0.1, 0.5)\n",
    "    axes[-1].set_xlabel(\"step number\");\n",
    "plt.show()\n",
    "plt.clf()"
   ]
  },
  {
   "cell_type": "markdown",
   "id": "8db2a211",
   "metadata": {},
   "source": [
    "Plot the range of good fits found by the sampler"
   ]
  },
  {
   "cell_type": "code",
   "execution_count": null,
   "id": "1a2fd708",
   "metadata": {},
   "outputs": [],
   "source": [
    "from ultranest.plot import PredictionBand\n",
    "band = PredictionBand(wl/(1+fixed['z']))\n",
    "inds = np.random.randint(len(flat_samples), size=10)\n",
    "for ind in inds:\n",
    "    sample = flat_samples[ind]\n",
    "    try:\n",
    "        modelfit = lp.test(sample)\n",
    "        band.add(modelfit)\n",
    "        plt.plot(wl/(1+fixed['z']),modelfit,alpha=0.1)\n",
    "    except:\n",
    "        continue\n",
    "band.line(color='k',label='model')\n",
    "# add 1 sigma quantile\n",
    "band.shade(color='k', alpha=0.5)\n",
    "# add wider quantile (0.01 .. 0.99)\n",
    "band.shade(q=0.49, color='gray', alpha=0.2);\n",
    "\n",
    "plt.plot(wl/(1+fixed['z']),flux,label='data')\n",
    "plt.title('Best fit model found by the emcee sampler')\n",
    "plt.legend(fontsize=14)\n",
    "plt.xlabel(\"x\")\n",
    "plt.ylabel(\"y\");\n",
    "plt.show()\n",
    "plt.clf()"
   ]
  },
  {
   "cell_type": "code",
   "execution_count": null,
   "id": "83977367",
   "metadata": {},
   "outputs": [],
   "source": []
  }
 ],
 "metadata": {
  "kernelspec": {
   "display_name": "Python 3 (ipykernel)",
   "language": "python",
   "name": "python3"
  },
  "language_info": {
   "codemirror_mode": {
    "name": "ipython",
    "version": 3
   },
   "file_extension": ".py",
   "mimetype": "text/x-python",
   "name": "python",
   "nbconvert_exporter": "python",
   "pygments_lexer": "ipython3",
   "version": "3.12.4"
  }
 },
 "nbformat": 4,
 "nbformat_minor": 5
}
